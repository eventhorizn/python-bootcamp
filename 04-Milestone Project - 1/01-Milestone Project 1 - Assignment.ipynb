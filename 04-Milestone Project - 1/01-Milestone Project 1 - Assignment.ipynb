{
 "metadata": {
  "language_info": {
   "codemirror_mode": {
    "name": "ipython",
    "version": 3
   },
   "file_extension": ".py",
   "mimetype": "text/x-python",
   "name": "python",
   "nbconvert_exporter": "python",
   "pygments_lexer": "ipython3",
   "version": "3.8.5-final"
  },
  "orig_nbformat": 2,
  "kernelspec": {
   "name": "python_defaultSpec_1597184809802",
   "display_name": "Python 3.8.3 32-bit"
  }
 },
 "nbformat": 4,
 "nbformat_minor": 2,
 "cells": [
  {
   "cell_type": "markdown",
   "metadata": {},
   "source": [
    "# Milestone Project 1\n",
    "## Congratulations on making it to your first milestone!\n",
    "You've already learned a ton and are ready to work on a real project.\n",
    "\n",
    "Your assignment: Create a Tic Tac Toe game. You are free to use any IDE you like.\n",
    "\n",
    "Here are the requirements:\n",
    "\n",
    "* 2 players should be able to play the game (both sitting at the same computer)\n",
    "* The board should be printed out every time a player makes a move\n",
    "* You should be able to accept input of the player position and then place a symbol on the board\n",
    "\n",
    "Feel free to use Google to help you figure anything out (but don't just Google \"Tic Tac Toe in Python\" otherwise you won't learn anything!) Keep in mind that this project can take anywhere between several hours to several days.\n",
    "\n",
    "There are 4 Jupyter Notebooks related to this assignment:\n",
    "\n",
    "* This Assignment Notebook\n",
    "* A \"Walkthrough Steps Workbook\" Notebook\n",
    "* A \"Complete Walkthrough Solution\" Notebook\n",
    "* An \"Advanced Solution\" Notebook\n",
    "\n",
    "I encourage you to just try to start the project on your own without referencing any of the notebooks. If you get stuck, check out the next lecture which is a text lecture with helpful hints and steps. If you're still stuck after that, then check out the Walkthrough Steps Workbook, which breaks up the project in steps for you to solve. Still stuck? Then check out the Complete Walkthrough Solution video for more help on approaching the project!"
   ]
  },
  {
   "cell_type": "code",
   "execution_count": 1,
   "metadata": {},
   "outputs": [],
   "source": [
    "def display_welcome():\n",
    "    print('Welcome to my tic tac toe game!')\n",
    "    print(\"You'll see two boards. One is the numbers you can pick. The other, the current state of the game\")\n",
    "    print(\"Player 1 goes first, and has the 'X', pick between 1 and 9\")\n",
    "    print(\"Player 2 then goes, and has the 'O'\")"
   ]
  },
  {
   "cell_type": "code",
   "execution_count": 2,
   "metadata": {
    "tags": []
   },
   "outputs": [
    {
     "output_type": "stream",
     "name": "stdout",
     "text": "Welcome to my tic tac toe game!\nYou'll see two boards. One is the numbers you can pick. The other, the current state of the game\nPlayer 1 goes first, and has the 'X', pick between 1 and 9\nPlayer 2 then goes, and has the 'O'\n"
    }
   ],
   "source": [
    "display_welcome()"
   ]
  },
  {
   "cell_type": "code",
   "execution_count": 5,
   "metadata": {},
   "outputs": [],
   "source": [
    "def show_rule_board():\n",
    "    print(\"\\nDecision Board\\n\")\n",
    "    print(\"1   2   3\")\n",
    "    print(\"4   5   6\")\n",
    "    print(\"7   8   9\")"
   ]
  },
  {
   "cell_type": "code",
   "execution_count": 6,
   "metadata": {
    "tags": []
   },
   "outputs": [
    {
     "output_type": "stream",
     "name": "stdout",
     "text": "\nDecision Board\n\n1   2   3\n4   5   6\n7   8   9\n"
    }
   ],
   "source": [
    "show_rule_board()"
   ]
  },
  {
   "cell_type": "code",
   "execution_count": 7,
   "metadata": {},
   "outputs": [],
   "source": [
    "def get_win_conditions():\n",
    "    return [[1, 4, 7], [2, 5, 8], [3, 6, 9], [1, 2, 3],\n",
    "            [4, 5, 6], [7, 8, 9], [1, 5, 9], [7, 5, 3]]"
   ]
  },
  {
   "cell_type": "code",
   "execution_count": 8,
   "metadata": {},
   "outputs": [],
   "source": [
    "def get_draw_condition():\n",
    "    return [1, 2, 3, 4, 5, 6, 7, 8, 9]"
   ]
  },
  {
   "cell_type": "code",
   "execution_count": 10,
   "metadata": {},
   "outputs": [],
   "source": [
    "def get_space(choices, spot):\n",
    "    if spot in choices['X']:\n",
    "        return 'X'\n",
    "    elif spot in choices['O']:\n",
    "        return 'O'\n",
    "    \n",
    "    return ' '"
   ]
  },
  {
   "cell_type": "code",
   "execution_count": 11,
   "metadata": {},
   "outputs": [],
   "source": [
    "def draw_active_board(choices):\n",
    "    print(\"\\nActive Board\\n\")\n",
    "    # Could be a loop?\n",
    "    print(\" \" + get_space(choices, 1) + \" | \" + get_space(choices, 2) + \" | \" + get_space(choices, 3))\n",
    "    print(\"-----------\")\n",
    "    print(\" \" + get_space(choices, 4) + \" | \" + get_space(choices, 5) + \" | \" + get_space(choices, 6))\n",
    "    print(\"-----------\")\n",
    "    print(\" \" + get_space(choices, 7) + \" | \" + get_space(choices, 8) + \" | \" + get_space(choices, 9))"
   ]
  },
  {
   "cell_type": "code",
   "execution_count": 12,
   "metadata": {
    "tags": []
   },
   "outputs": [
    {
     "output_type": "stream",
     "name": "stdout",
     "text": "\nActive Board\n\n   |   |  \n-----------\n   |   |  \n-----------\n   |   |  \n"
    }
   ],
   "source": [
    "draw_active_board(player_choices)"
   ]
  },
  {
   "cell_type": "code",
   "execution_count": 13,
   "metadata": {
    "tags": []
   },
   "outputs": [
    {
     "output_type": "stream",
     "name": "stdout",
     "text": "\nActive Board\n\n X | X | X\n-----------\n O | O | O\n-----------\n   |   |  \n"
    }
   ],
   "source": [
    "choices = {'X' : [1, 2, 3], 'O' : [4, 5, 6]}\n",
    "\n",
    "draw_active_board(choices)"
   ]
  },
  {
   "cell_type": "code",
   "execution_count": 30,
   "metadata": {},
   "outputs": [],
   "source": [
    "def gameon():\n",
    "    choice = \"wrong\"\n",
    "\n",
    "    while choice not in ['Y', 'N']:\n",
    "        choice = input(\"Would you like to keep playing? Y or N\")\n",
    "\n",
    "        if choice not in ['Y', 'N']:\n",
    "            print(\"Sorry, I didn't understand. Please make sure to choose Y or N.\")\n",
    "\n",
    "    return choice == 'Y'"
   ]
  },
  {
   "cell_type": "code",
   "execution_count": 31,
   "metadata": {
    "tags": []
   },
   "outputs": [
    {
     "output_type": "stream",
     "name": "stdout",
     "text": "Sorry, I didn't understand. Please make sure to choose Y or N.\nSorry, I didn't understand. Please make sure to choose Y or N.\n"
    },
    {
     "output_type": "execute_result",
     "data": {
      "text/plain": "False"
     },
     "metadata": {},
     "execution_count": 31
    }
   ],
   "source": [
    "gameon()"
   ]
  },
  {
   "cell_type": "code",
   "execution_count": 14,
   "metadata": {},
   "outputs": [],
   "source": [
    "def choice_open(choices, choice):\n",
    "    if not choice in choices['X'] and not choice in choices['O']:\n",
    "        return True\n",
    "\n",
    "    return False"
   ]
  },
  {
   "cell_type": "code",
   "execution_count": 15,
   "metadata": {},
   "outputs": [],
   "source": [
    "choices = {'X' : [1, 2, 3], 'O' : [4, 5, 6]}"
   ]
  },
  {
   "cell_type": "code",
   "execution_count": 16,
   "metadata": {},
   "outputs": [
    {
     "output_type": "execute_result",
     "data": {
      "text/plain": "False"
     },
     "metadata": {},
     "execution_count": 16
    }
   ],
   "source": [
    "choice_open(choices, 1)"
   ]
  },
  {
   "cell_type": "code",
   "execution_count": 17,
   "metadata": {},
   "outputs": [
    {
     "output_type": "execute_result",
     "data": {
      "text/plain": "True"
     },
     "metadata": {},
     "execution_count": 17
    }
   ],
   "source": [
    "choice_open(choices, 7)"
   ]
  },
  {
   "cell_type": "code",
   "execution_count": 18,
   "metadata": {},
   "outputs": [],
   "source": [
    "def update_choices(choices, choice, symbol):\n",
    "    choices[symbol].append(choice)\n",
    "    draw_active_board(choices)"
   ]
  },
  {
   "cell_type": "code",
   "execution_count": 19,
   "metadata": {
    "tags": []
   },
   "outputs": [
    {
     "output_type": "stream",
     "name": "stdout",
     "text": "\nActive Board\n\n   |   |  \n-----------\n   |   |  \n-----------\n   |   |  \n\nActive Board\n\n X |   |  \n-----------\n   |   |  \n-----------\n   |   |  \n\nActive Board\n\n X | O |  \n-----------\n   |   |  \n-----------\n   |   |  \n"
    }
   ],
   "source": [
    "player_choices = {'X' : [], 'O' : []}\n",
    "draw_active_board(player_choices)\n",
    "\n",
    "update_choices(player_choices, 1, 'X')\n",
    "update_choices(player_choices, 2, 'O')"
   ]
  },
  {
   "cell_type": "code",
   "execution_count": 20,
   "metadata": {},
   "outputs": [],
   "source": [
    "def user_choice(choices, symbol):\n",
    "    choice = \"wrong\"\n",
    "    \n",
    "    if symbol == 'X':\n",
    "        print(\"\\nPlayer 1 turn ('X')\")\n",
    "    else:\n",
    "        print(\"\\nPlayer 2 turn ('O')\")\n",
    "\n",
    "    while not choice.isdigit():\n",
    "        choice = input(\"Choose a number: \")\n",
    "        \n",
    "        if not choice.isdigit():\n",
    "            print(\"Sorry, but you did not enter an integer. Please try again.\")\n",
    "            continue\n",
    "\n",
    "        choice_int = int(choice)\n",
    "\n",
    "        if choice_int < 1 or choice_int > 9:\n",
    "            print(\"Sorry, you must pick an integer between 1 and 9\")\n",
    "            choice = \"wrong\"\n",
    "\n",
    "        if not choice_open(choices, int(choice)):\n",
    "            print(\"That spot has already been picked.\")\n",
    "            choice = \"wrong\"\n",
    "\n",
    "    update_choices(choices, choice_int, symbol)"
   ]
  },
  {
   "cell_type": "code",
   "execution_count": 21,
   "metadata": {
    "tags": []
   },
   "outputs": [
    {
     "output_type": "stream",
     "name": "stdout",
     "text": "\nPlayer 1 turn ('X')\n\nActive Board\n\n X |   |  \n-----------\n   |   |  \n-----------\n   |   |  \n"
    }
   ],
   "source": [
    "player_choices = {'X' : [], 'O' : []}\n",
    "user_choice(player_choices, 'X')"
   ]
  },
  {
   "cell_type": "code",
   "execution_count": 34,
   "metadata": {},
   "outputs": [],
   "source": [
    "def game_over(choices):\n",
    "    win_conds = get_win_conditions()\n",
    "    draw_conds = get_draw_condition()\n",
    "\n",
    "    for win_cond in win_conds:\n",
    "        if set(choices['X']) == set(win_cond):\n",
    "            print(\"\\nPlayer 1 wins!\")\n",
    "            return True\n",
    "        elif set(choices['O']) == set(win_cond):\n",
    "            print(\"\\nPlayer 2 wins!\")\n",
    "            return True\n",
    "        elif set(choices['X'] + choices['O']) == set(draw_conds):\n",
    "            print(\"\\nThe game is a draw!\")\n",
    "            return True\n",
    "\n",
    "    return False "
   ]
  },
  {
   "cell_type": "code",
   "execution_count": 23,
   "metadata": {
    "tags": []
   },
   "outputs": [
    {
     "output_type": "stream",
     "name": "stdout",
     "text": "False\nPlayer 1 wins!\nTrue\nPlayer 1 wins!\nTrue\nThe game is a draw!\nTrue\n"
    }
   ],
   "source": [
    "player_choices = {'X' : [], 'O' : []}\n",
    "print(game_over(player_choices))\n",
    "\n",
    "player_choices = {'X' : [1, 2, 3], 'O' : []}\n",
    "print(game_over(player_choices))\n",
    "\n",
    "player_choices = {'X' : [4, 5, 6], 'O' : []}\n",
    "print(game_over(player_choices))\n",
    "\n",
    "player_choices = {'X' : [1, 3, 4, 6, 8], 'O' : [2, 5, 7, 9]}\n",
    "print(game_over(player_choices))"
   ]
  },
  {
   "cell_type": "code",
   "execution_count": 35,
   "metadata": {
    "tags": []
   },
   "outputs": [
    {
     "output_type": "stream",
     "name": "stdout",
     "text": "Welcome to my tic tac toe game!\nYou'll see two boards. One is the numbers you can pick. The other, the current state of the game\nPlayer 1 goes first, and has the 'X', pick between 1 and 9\nPlayer 2 then goes, and has the 'O'\n\nDecision Board\n\n1   2   3\n4   5   6\n7   8   9\n\nPlayer 1 turn ('X')\n\nActive Board\n\n   |   |  \n-----------\n X |   |  \n-----------\n   |   |  \n\nPlayer 2 turn ('O')\n\nActive Board\n\n   |   |  \n-----------\n X | O |  \n-----------\n   |   |  \n\nDecision Board\n\n1   2   3\n4   5   6\n7   8   9\n\nPlayer 1 turn ('X')\n\nActive Board\n\n X |   |  \n-----------\n X | O |  \n-----------\n   |   |  \n\nPlayer 2 turn ('O')\n\nActive Board\n\n X |   |  \n-----------\n X | O |  \n-----------\n O |   |  \n\nDecision Board\n\n1   2   3\n4   5   6\n7   8   9\n\nPlayer 1 turn ('X')\n\nActive Board\n\n X |   | X\n-----------\n X | O |  \n-----------\n O |   |  \n\nPlayer 2 turn ('O')\n\nActive Board\n\n X | O | X\n-----------\n X | O |  \n-----------\n O |   |  \n\nDecision Board\n\n1   2   3\n4   5   6\n7   8   9\n\nPlayer 1 turn ('X')\n\nActive Board\n\n X | O | X\n-----------\n X | O |  \n-----------\n O | X |  \n\nPlayer 2 turn ('O')\n\nActive Board\n\n X | O | X\n-----------\n X | O | O\n-----------\n O | X |  \n\nDecision Board\n\n1   2   3\n4   5   6\n7   8   9\n\nPlayer 1 turn ('X')\n\nActive Board\n\n X | O | X\n-----------\n X | O | O\n-----------\n O | X | X\n\nThe game is a draw!\n"
    }
   ],
   "source": [
    "# Putting it all together\n",
    "from IPython.display import clear_output\n",
    "\n",
    "game_on = True\n",
    "player_one = 'X'\n",
    "player_two = 'O'\n",
    "\n",
    "while game_on:\n",
    "    clear_output()\n",
    "\n",
    "    player_choices = {'X' : [], 'O' : []}\n",
    "    display_welcome()\n",
    "\n",
    "    gameover = False\n",
    "    \n",
    "    while not gameover:\n",
    "        show_rule_board()\n",
    "        user_choice(player_choices, player_one)\n",
    "        gameover = game_over(player_choices)\n",
    "\n",
    "        if gameover:\n",
    "            break\n",
    "\n",
    "        user_choice(player_choices, player_two)\n",
    "        gameover = game_over(player_choices)\n",
    "\n",
    "    game_on = gameon()"
   ]
  },
  {
   "cell_type": "code",
   "execution_count": null,
   "metadata": {},
   "outputs": [],
   "source": []
  }
 ]
}