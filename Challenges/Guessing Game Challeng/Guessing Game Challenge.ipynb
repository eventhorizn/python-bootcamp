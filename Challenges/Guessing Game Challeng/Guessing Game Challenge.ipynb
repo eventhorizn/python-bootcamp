{
 "metadata": {
  "language_info": {
   "codemirror_mode": {
    "name": "ipython",
    "version": 3
   },
   "file_extension": ".py",
   "mimetype": "text/x-python",
   "name": "python",
   "nbconvert_exporter": "python",
   "pygments_lexer": "ipython3",
   "version": 3
  },
  "orig_nbformat": 2,
  "kernelspec": {
   "name": "python_defaultSpec_1596242077551",
   "display_name": "Python 3.8.3 32-bit"
  }
 },
 "nbformat": 4,
 "nbformat_minor": 2,
 "cells": [
  {
   "cell_type": "markdown",
   "metadata": {},
   "source": [
    "# Guessing Game Challenge\n",
    "\n",
    "Let's use `while` loops to create a guessing game.\n",
    "\n",
    "The Challenge:\n",
    "\n",
    "Write a program that picks a random integer from 1 to 100, and has players guess the number. The rules are:\n",
    "\n",
    "1. If a player's guess is less than 1 or greater than 100, say \"OUT OF BOUNDS\"\n",
    "2. On a player's first turn, if their guess is\n",
    " * within 10 of the number, return \"WARM!\"\n",
    " * further than 10 away from the number, return \"COLD!\"\n",
    "3. On all subsequent turns, if a guess is \n",
    " * closer to the number than the previous guess return \"WARMER!\"\n",
    " * farther from the number than the previous guess, return \"COLDER!\"\n",
    "4. When the player's guess equals the number, tell them they've guessed correctly *and* how many guesses it took!\n",
    "\n",
    "\n",
    "Separate requirement, print out the rules at the beginning of the program"
   ]
  },
  {
   "cell_type": "markdown",
   "metadata": {},
   "source": [
    "Some hints:\n",
    "* it may help to sketch out all possible combinations on paper first!\n",
    "* you can use the `abs()` function to find the positive difference between two numbers\n",
    "* if you append all new guesses to the list, then the previous guess is given as `guesses[-2]`"
   ]
  },
  {
   "cell_type": "code",
   "execution_count": 4,
   "metadata": {},
   "outputs": [
    {
     "output_type": "execute_result",
     "data": {
      "text/plain": "31"
     },
     "metadata": {},
     "execution_count": 4
    }
   ],
   "source": [
    "# Generate random number between 0 and 100\n",
    "\n",
    "from random import randint\n",
    "\n",
    "rand_num = randint(0, 101)\n",
    "rand_num"
   ]
  },
  {
   "cell_type": "code",
   "execution_count": 9,
   "metadata": {
    "tags": []
   },
   "outputs": [],
   "source": [
    "# Get input from user\n",
    "# If guess is less than 0 or greater than 100, say, 'OUT OF BOUNDS!'\n",
    "\n",
    "guess = int(input(\"Enter a Guess: \"))\n",
    "if guess < 0 or guess > 100:\n",
    "    print(\"OUT OF BOUNDS!\")"
   ]
  },
  {
   "cell_type": "code",
   "execution_count": 15,
   "metadata": {
    "tags": []
   },
   "outputs": [
    {
     "output_type": "stream",
     "name": "stdout",
     "text": "Closer\n"
    }
   ],
   "source": [
    "# If guess is within 10 of number, return 'WARMER!'\n",
    "# If guess is 10 away from number, return 'COLDER!'\n",
    "num = 50\n",
    "\n",
    "guess = int(input(\"Enter a Guess: \"))\n",
    "how_close = abs(guess - num)\n",
    "\n",
    "if how_close == 0:\n",
    "    print(\"You've guessed correctly!\")\n",
    "elif how_close <= 10:\n",
    "    print(\"Warmer\")\n",
    "elif how_close > 10:\n",
    "    print(\"Colder\")"
   ]
  },
  {
   "cell_type": "code",
   "execution_count": null,
   "metadata": {},
   "outputs": [],
   "source": [
    "# Print the rules"
   ]
  },
  {
   "cell_type": "code",
   "execution_count": 16,
   "metadata": {
    "tags": []
   },
   "outputs": [
    {
     "output_type": "stream",
     "name": "stdout",
     "text": "Warm\nYou've guessed correctly!\n"
    }
   ],
   "source": [
    "from random import randint\n",
    "\n",
    "print(\"WELCOME TO GUESS ME!\")\n",
    "print(\"I'm thinking of a number between 1 and 100\")\n",
    "print(\"If your guess is more than 10 away from my number, I'll tell you you're COLD\")\n",
    "print(\"If your guess is within 10 of my number, I'll tell you you're WARM\")\n",
    "print(\"If your guess is farther than your most recent guess, I'll say you're getting COLDER\")\n",
    "print(\"If your guess is closer than your most recent guess, I'll say you're getting WARMER\")\n",
    "print(\"LET'S PLAY!\")\n",
    "\n",
    "rand_num = randint(0, 100)\n",
    "print(rand_num)\n",
    "\n",
    "guess = int(input(\"Enter a Guess: \"))\n",
    "\n",
    "while guess < 0 or guess > 100:\n",
    "    print('OUT OF BOUNDS!')\n",
    "    guess = int(input(\"Enter a Guess: \"))\n",
    "\n",
    "how_close = abs(guess - rand_num)\n",
    "\n",
    "if how_close <= 10 and how_close > 0:\n",
    "    print(\"Warm\")\n",
    "elif how_close > 10:\n",
    "    print(\"Cold\")\n",
    "\n",
    "how_close_list = [how_close]\n",
    "\n",
    "while how_close != 0:\n",
    "    guess = int(input(\"Enter a Guess: \"))\n",
    "    if guess < 0 or guess > 100:\n",
    "        print(\"OUT OF BOUNDS!\")\n",
    "        continue\n",
    "\n",
    "    how_close = abs(guess - rand_num)\n",
    "    how_close_list.append(how_close)\n",
    "\n",
    "    prev_close = how_close_list[-2]\n",
    "    curr_close = how_close_list[-1]\n",
    "\n",
    "    if curr_close < prev_close:\n",
    "        print(\"Warmer\")\n",
    "    elif curr_close > prev_close:\n",
    "        print(\"Colder\") \n",
    "    elif curr_close == prev_close:\n",
    "        print(\"Same Guess\") # not exactly needed\n",
    "    else: # we've guessed, don't need to print anything\n",
    "        pass \n",
    "\n",
    "print(f\"You've guessed correctly, in {len(how_close_list)} guesses\")\n"
   ]
  },
  {
   "cell_type": "code",
   "execution_count": null,
   "metadata": {},
   "outputs": [],
   "source": [
    "from random import randint\n",
    "\n",
    "print(\"WELCOME TO GUESS ME!\")\n",
    "print(\"I'm thinking of a number between 1 and 100\")\n",
    "print(\"If your guess is more than 10 away from my number, I'll tell you you're COLD\")\n",
    "print(\"If your guess is within 10 of my number, I'll tell you you're WARM\")\n",
    "print(\"If your guess is farther than your most recent guess, I'll say you're getting COLDER\")\n",
    "print(\"If your guess is closer than your most recent guess, I'll say you're getting WARMER\")\n",
    "print(\"LET'S PLAY!\")\n",
    "\n",
    "rand_num = randint(0, 100)\n",
    "print(rand_num)\n",
    "\n",
    "how_close_list = [0]\n",
    "\n",
    "# cleaned up solution\n",
    "while True:\n",
    "    guess = int(input(\"Enter a Guess: \"))\n",
    "\n",
    "    if guess > 100 or guess < 0:\n",
    "        print('OUT OF BOUNDS!')\n",
    "        continue\n",
    "\n",
    "    how_close = abs(guess - rand_num)\n",
    "    how_close_list.append(how_close)\n",
    "\n",
    "    if how_close == 0:\n",
    "        print(f\"You've guessed correctly, in {len(how_close_list)} guesses\")\n",
    "        break\n",
    "\n",
    "    if how_close_list[-2]:\n",
    "        prev_close = how_close_list[-2]\n",
    "        curr_close = how_close_list[-1]\n",
    "\n",
    "        if curr_close < prev_close:\n",
    "            print(\"Warmer\")\n",
    "        elif curr_close > prev_close:\n",
    "            print(\"Colder\")\n",
    "        elif curr_close == prev_close:\n",
    "            print(\"Same Guess\")  # not exactly needed\n",
    "        else:  # we've guessed, don't need to print anything\n",
    "            pass\n",
    "    else:\n",
    "        if how_close <= 10 and how_close > 0:\n",
    "            print(\"Warm\")\n",
    "        else:\n",
    "            print(\"Cold\")"
   ]
  }
 ]
}