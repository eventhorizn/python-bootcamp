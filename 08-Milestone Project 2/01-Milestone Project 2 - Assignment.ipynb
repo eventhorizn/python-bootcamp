{
 "metadata": {
  "language_info": {
   "codemirror_mode": {
    "name": "ipython",
    "version": 3
   },
   "file_extension": ".py",
   "mimetype": "text/x-python",
   "name": "python",
   "nbconvert_exporter": "python",
   "pygments_lexer": "ipython3",
   "version": "3.8.5-final"
  },
  "orig_nbformat": 2,
  "kernelspec": {
   "name": "python38532bit90a426bfcfb94f3e9bae246c9e92b6dd",
   "display_name": "Python 3.8.5 32-bit"
  }
 },
 "nbformat": 4,
 "nbformat_minor": 2,
 "cells": [
  {
   "cell_type": "markdown",
   "metadata": {},
   "source": [
    "# Milestone Project 2 - Blackjack Game\n",
    "In this milestone project you will be creating a Complete BlackJack Card Game in Python.\n",
    "\n",
    "Here are the requirements:\n",
    "\n",
    "* You need to create a simple text-based [BlackJack](https://en.wikipedia.org/wiki/Blackjack) game\n",
    "* The game needs to have one player versus an automated dealer.\n",
    "* The player can stand or hit.\n",
    "* The player must be able to pick their betting amount.\n",
    "* You need to keep track of the player's total money.\n",
    "* You need to alert the player of wins, losses, or busts, etc...\n",
    "\n",
    "And most importantly:\n",
    "\n",
    "* **You must use OOP and classes in some portion of your game. You can not just use functions in your game. Use classes to help you define the Deck and the Player's hand. There are many right ways to do this, so explore it well!**\n",
    "\n",
    "\n",
    "Feel free to expand this game. Try including multiple players. Try adding in Double-Down and card splits!"
   ]
  },
  {
   "cell_type": "markdown",
   "metadata": {},
   "source": [
    "## Game Play\n",
    "\n",
    "To play a hand of Blackjack the following steps must be followed:\n",
    "\n",
    "1. Create a deck of 52 cards\n",
    "2. Shuffle the deck\n",
    "3. Ask the Player for their bet\n",
    "4. Make sure that the Player's bet does not exceed their available chips\n",
    "5. Deal two cards to the Dealer and two cards to the Player\n",
    "6. Show only one of the Dealer's cards, the other remains hidden\n",
    "7. Show both of the Player's cards\n",
    "8. Ask the Player if they wish to Hit, and take another card\n",
    "9. If the Player's hand doesn't Bust (go over 21), ask if they'd like to Hit again.\n",
    "10. If a Player Stands, play the Dealer's hand. The dealer will always Hit until the Dealer's value meets or exceeds 17\n",
    "11. Determine the winner and adjust the Player's chips accordingly\n",
    "12. Ask the Player if they'd like to play again"
   ]
  },
  {
   "cell_type": "markdown",
   "metadata": {},
   "source": [
    "## Playing Cards\n",
    "\n",
    "A standard deck of playing cards has four suits (Hearts, Diamonds, Spades and Clubs) and thirteen ranks (2 through 10, then the face cards Jack, Queen, King and Ace) for a total of 52 cards per deck. Jacks, Queens and Kings all have a rank of 10. Aces have a rank of either 11 or 1 as needed to reach 21 without busting. As a starting point in your program, you may want to assign variables to store a list of suits, ranks, and then use a dictionary to map ranks to values."
   ]
  },
  {
   "cell_type": "markdown",
   "metadata": {},
   "source": [
    "# The Game"
   ]
  },
  {
   "cell_type": "code",
   "execution_count": 8,
   "metadata": {},
   "outputs": [],
   "source": [
    "import random\n",
    "\n",
    "suits = ('Hearts', 'Diamonds', 'Spades', 'Clubs')\n",
    "ranks = ('Two', 'Three', 'Four', 'Five', 'Six', 'Seven', 'Eight',\n",
    "         'Nine', 'Ten', 'Jack', 'Queen', 'King', 'Ace')\n",
    "values = {'Two': 2, 'Three': 3, 'Four': 4, 'Five': 5, 'Six': 6,\n",
    "          'Seven': 7, 'Eight': 8, 'Nine': 9, 'Ten': 10, 'Jack': 10,\n",
    "          'Queen': 10, 'King': 10, 'Ace': 11}"
   ]
  },
  {
   "cell_type": "code",
   "execution_count": 9,
   "metadata": {},
   "outputs": [],
   "source": [
    "class Card:\n",
    "\n",
    "    def __init__(self, suit, rank):\n",
    "        self.suit = suit\n",
    "        self.rank = rank\n",
    "        self.value = values[rank]\n",
    "\n",
    "    def __str__(self):\n",
    "        return self.rank + ' of ' + self.suit"
   ]
  },
  {
   "cell_type": "code",
   "execution_count": 11,
   "metadata": {},
   "outputs": [],
   "source": [
    "class Deck:\n",
    "\n",
    "    def __init__(self):\n",
    "        self.deck = []\n",
    "        for suit in suits:\n",
    "            for rank in ranks:\n",
    "                self.deck.append(Card(suit, rank))\n",
    "    \n",
    "    def __str__(self):\n",
    "        val = ''\n",
    "        for card in self.deck:\n",
    "            val += card.__str__() + '\\n'\n",
    "        return val\n",
    "\n",
    "    def shuffle(self):\n",
    "        random.shuffle(self.deck)\n",
    "\n",
    "    def deal(self):\n",
    "        return self.deck.pop()"
   ]
  },
  {
   "cell_type": "code",
   "execution_count": 133,
   "metadata": {},
   "outputs": [],
   "source": [
    "class Hand:\n",
    "    \n",
    "    def __init__(self):\n",
    "        self.cards = []\n",
    "        self.value = 0\n",
    "        self.aces = 0\n",
    "\n",
    "    def __str__(self):\n",
    "        val = ''\n",
    "        for card in self.cards:\n",
    "            val += card.__str__() + '\\n'\n",
    "        return val\n",
    "\n",
    "    def add_card(self, card):\n",
    "        self.cards.append(card)\n",
    "        if card.rank == 'Ace':\n",
    "            self.aces += 1\n",
    "\n",
    "    def get_score(self):\n",
    "        score = 0\n",
    "\n",
    "        for c in self.cards:\n",
    "            score += c.value\n",
    "        \n",
    "        # if we bust with aces, we try to avoid that by switching\n",
    "        while self.aces > 0 and score > 21:\n",
    "            score -= 10\n",
    "            self.aces -= 1\n",
    "            \n",
    "        return score\n",
    "    \n",
    "    def clear_hand(self):\n",
    "        self.cards = []"
   ]
  },
  {
   "cell_type": "code",
   "execution_count": 141,
   "metadata": {},
   "outputs": [],
   "source": [
    "class Player:\n",
    "\n",
    "    def __init__(self, name):\n",
    "        self.name = name\n",
    "        self.total = 100\n",
    "        self.bet = 0\n",
    "        self.hand = Hand()\n",
    "        self.playing = True\n",
    "        self.bust = False\n",
    "\n",
    "    def __str__(self):\n",
    "        return self.name + '\\n' + self.hand.__str__() + '\\n' + 'Chips: ' + str(self.total) + '\\n' + 'Score: ' + str(self.hand.get_score()) + '\\n'\n",
    "\n",
    "    def give_card(self, deck):\n",
    "        self.hand.add_card(deck.deal())\n",
    "\n",
    "    def place_bet(self):\n",
    "        while True:\n",
    "            try:\n",
    "                self.bet = int(input(self.name + \", place your bet: \"))\n",
    "            except:\n",
    "                print(\"Your bet must be an integer\")\n",
    "                continue\n",
    "            else:\n",
    "                if self.bet > self.total:\n",
    "                    print(\"You can't bet more than you own\")\n",
    "                    continue\n",
    "                else:\n",
    "                    print(self.name + \"'s bet: \" + str(self.bet) + \" chips\" + '\\n')\n",
    "                    self.total -= self.bet\n",
    "                    break\n",
    "        \n",
    "    def hit_or_stand(self, deck):\n",
    "        hit = False\n",
    "        while True:\n",
    "            try:\n",
    "                hit = bool(int(input(\"Hit (1) or Stand (0): \")))\n",
    "            except:\n",
    "                print(\"You must Hit (1) or Stand(0)\")\n",
    "                continue\n",
    "            else:\n",
    "                break\n",
    "\n",
    "        if hit:\n",
    "            self.hand.add_card(deck.deal())   \n",
    "        else:\n",
    "            print(\"You stand at: \")\n",
    "            self.playing = False\n",
    "\n",
    "        if self.hand.get_score() > 21:\n",
    "            self.bust = True\n",
    "            print(\"You have gone over 21, and have busted\\n\")\n",
    "            self.playing = False\n",
    "\n",
    "    def blackjack(self):\n",
    "        return len(self.hand.cards) == 2 and self.hand.get_score == 21\n",
    "\n",
    "    def get_score(self):\n",
    "        return self.hand.get_score()\n",
    "\n",
    "    def clear_hand(self):\n",
    "        self.hand.clear_hand()\n",
    "\n",
    "    # wining a bet generates different amounts\n",
    "    # if you hit a blackjack, you get 2.5 the bet\n",
    "    # if you beat the dealer, its 2\n",
    "    def win_bet(self, bet_quantifier):\n",
    "        self.total += self.bet * bet_quantifier\n",
    "\n",
    "    def lose_bet(self):\n",
    "        self.total -= self.bet"
   ]
  },
  {
   "cell_type": "code",
   "execution_count": 135,
   "metadata": {},
   "outputs": [],
   "source": [
    "class Dealer(Player):\n",
    "\n",
    "    # There's a danger in this method...need to fix on hand side\n",
    "    def __str__(self):\n",
    "        if len(self.hand.cards) > 0:\n",
    "            i_card = self.hand.cards[0]\n",
    "            return self.name + '\\n' + i_card.__str__() + '\\n' + 'Score: ' + str(i_card.value) + '\\n'\n",
    "        else:\n",
    "            return self.name + '\\n' + 'No Cards'\n",
    "\n",
    "    def finishHand(self, deck):\n",
    "        while self.hand.get_score() < 17:\n",
    "            self.hit(deck)\n",
    "\n",
    "    def hit(self, deck):\n",
    "        self.hand.add_card(deck.deal())   \n",
    "\n",
    "        if self.hand.get_score() > 21:\n",
    "            self.bust = True\n",
    "\n",
    "    def showFullHand(self):\n",
    "        print(self.name + '\\n' + self.hand.__str__() + '\\n' + 'Score: ' + str(self.hand.get_score()) + '\\n')"
   ]
  },
  {
   "cell_type": "markdown",
   "metadata": {},
   "source": [
    "Dealer\n",
    "Seven of Spades\n",
    "Nine of Clubs\n",
    "Ace of Hearts"
   ]
  },
  {
   "cell_type": "code",
   "execution_count": 145,
   "metadata": {
    "tags": []
   },
   "outputs": [
    {
     "output_type": "stream",
     "name": "stdout",
     "text": "17\n"
    }
   ],
   "source": [
    "test_deck = Deck()\n",
    "test_deck.shuffle()\n",
    "\n",
    "player = Dealer(\"Test\")\n",
    "player.hand.add_card(Card(\"Spades\", \"Seven\"))\n",
    "player.hand.add_card(Card(\"Clubs\", \"Nine\"))\n",
    "player.hand.add_card(Card(\"Hearts\", \"Ace\"))\n",
    "print(player.get_score())"
   ]
  },
  {
   "cell_type": "code",
   "execution_count": 136,
   "metadata": {
    "tags": []
   },
   "outputs": [
    {
     "output_type": "stream",
     "name": "stdout",
     "text": "Gary's bet: 50 chips\n\nDealer\nTwo of Spades\nScore: 2\n\nGary\nQueen of Spades\nTen of Diamonds\n\nScore: 20\n\nYou stand at: \nGary\nQueen of Spades\nTen of Diamonds\n\nScore: 20\n\nDealer\nTwo of Spades\nEight of Spades\nKing of Clubs\n\nScore: 20\n\n"
    }
   ],
   "source": [
    "test_deck = Deck()\n",
    "test_deck.shuffle()\n",
    "\n",
    "player = Player(\"Gary\")\n",
    "player.place_bet()\n",
    "\n",
    "player.give_card(test_deck)\n",
    "player.give_card(test_deck)\n",
    "\n",
    "dealer = Dealer(\"Dealer\")\n",
    "dealer.give_card(test_deck)\n",
    "dealer.give_card(test_deck)\n",
    "\n",
    "print(dealer)\n",
    "print(player)\n",
    "\n",
    "while player.playing:\n",
    "    player.hit_or_stand(test_deck)\n",
    "    print(player)\n",
    "\n",
    "dealer.finishHand(test_deck)\n",
    "dealer.showFullHand()"
   ]
  },
  {
   "cell_type": "code",
   "execution_count": 137,
   "metadata": {},
   "outputs": [],
   "source": [
    "def handle_payout(player, dealer):\n",
    "    # Player busts, so they lose\n",
    "    if player.bust:\n",
    "        print(\"You busted, and lost your bet\\n\")\n",
    "        player.lose_bet()\n",
    "        return\n",
    "    # So, dealer didn't bust and they match the dealer, they 'win' their bet back (push)\n",
    "    if not dealer.bust and player.get_score() == dealer.get_score():\n",
    "        print(\"You match the dealer, push\\n\")\n",
    "        player.win_bet(1)\n",
    "    # Player hit blackjack and dealer either busted or has lower score\n",
    "    if player.blackjack():\n",
    "        print(\"You got a blackjack, 2.5 your bet\\n\")\n",
    "        player.win_bet(2.5)\n",
    "        return\n",
    "    # Player wins regular. They haven't busted and they haven't hit blackjack\n",
    "    if dealer.bust:\n",
    "        print(\"Dealer busted, 2 your bet\\n\")\n",
    "        player.win_bet(2)\n",
    "        return\n",
    "    if player.get_score() > dealer.get_score():\n",
    "        print(\"You beat the dealer, 2 your bet\\n\")\n",
    "        player.win_bet(2)\n",
    "        return\n",
    "    if dealer.get_score() > player.get_score():\n",
    "        print(\"Dealer beat you, you lost your bet \\n\")\n",
    "        player.lose_bet()\n",
    "        return"
   ]
  },
  {
   "cell_type": "code",
   "execution_count": 125,
   "metadata": {},
   "outputs": [],
   "source": [
    "def play_next_round():\n",
    "    while True:\n",
    "        try:\n",
    "            playing = int(input(\"New Round (1) Yes, (0) No: \"))\n",
    "        except:\n",
    "            print(\"Bad Input\")\n",
    "            continue\n",
    "        else:\n",
    "            if playing > 1 or playing < 0:\n",
    "                print(\"(1) Yes, (0) No\")\n",
    "                continue\n",
    "            else:\n",
    "                break\n",
    "        \n",
    "    return bool(playing)"
   ]
  },
  {
   "cell_type": "code",
   "execution_count": 142,
   "metadata": {
    "tags": []
   },
   "outputs": [
    {
     "output_type": "stream",
     "name": "stdout",
     "text": "We are playing blackjack with 4 players\nGary's bet: 50 chips\n\nKatie's bet: 50 chips\n\nDealer\nSeven of Spades\nScore: 7\n\nGary\nNine of Diamonds\nSix of Clubs\n\nChips: 100\nScore: 15\n\nGary\nNine of Diamonds\nSix of Clubs\nFive of Diamonds\n\nChips: 100\nScore: 20\n\nYou stand at: \nGary\nNine of Diamonds\nSix of Clubs\nFive of Diamonds\n\nChips: 100\nScore: 20\n\nDealer\nSeven of Spades\nScore: 7\n\nKatie\nQueen of Hearts\nFour of Clubs\n\nChips: 100\nScore: 14\n\nKatie\nQueen of Hearts\nFour of Clubs\nFive of Spades\n\nChips: 100\nScore: 19\n\nYou stand at: \nKatie\nQueen of Hearts\nFour of Clubs\nFive of Spades\n\nChips: 100\nScore: 19\n\nDealer\nSeven of Spades\nNine of Clubs\nAce of Hearts\n\nScore: 27\n\nGary\nNine of Diamonds\nSix of Clubs\nFive of Diamonds\n\nChips: 100\nScore: 20\n\nDealer beat you, you lost your bet \n\nGary\nNine of Diamonds\nSix of Clubs\nFive of Diamonds\n\nChips: 50\nScore: 20\n\nDealer\nSeven of Spades\nNine of Clubs\nAce of Hearts\n\nScore: 27\n\nKatie\nQueen of Hearts\nFour of Clubs\nFive of Spades\n\nChips: 100\nScore: 19\n\nDealer beat you, you lost your bet \n\nKatie\nQueen of Hearts\nFour of Clubs\nFive of Spades\n\nChips: 50\nScore: 19\n\n"
    }
   ],
   "source": [
    "# Print an opening statement\n",
    "# I could have a 'choose how many players and their names\n",
    "print('We are playing blackjack with 4 players')\n",
    "\n",
    "players = []\n",
    "players.append(Player(\"Gary\"))\n",
    "players.append(Player(\"Katie\"))\n",
    "#players.append(Player(\"Rowan\"))\n",
    "#players.append(Player(\"Hazel\"))\n",
    "\n",
    "dealer = Dealer(\"Dealer\")\n",
    "\n",
    "while True:\n",
    "    deck = Deck()\n",
    "    deck.shuffle()\n",
    "\n",
    "    # Players first place a bet\n",
    "    for player in players:\n",
    "        player.place_bet()\n",
    "\n",
    "    # Go around the table and give a player a card, twice\n",
    "    for i in range(2):\n",
    "        for player in players:\n",
    "            player.give_card(deck)\n",
    "\n",
    "    # Give dealer 2 cards\n",
    "    dealer.give_card(test)\n",
    "    dealer.give_card(test)\n",
    "\n",
    "    for player in players:\n",
    "        print(dealer) # Show the players the dealer hand\n",
    "        print(player) # Show the player their hand\n",
    "\n",
    "        while player.playing:\n",
    "            player.hit_or_stand(deck)\n",
    "            print(player)\n",
    "\n",
    "    dealer.finishHand(deck)\n",
    "    \n",
    "    for player in players:\n",
    "        dealer.showFullHand()\n",
    "        print(player)\n",
    "        handle_payout(player, dealer)\n",
    "        print(player)\n",
    "\n",
    "    if not play_next_round():\n",
    "        break    "
   ]
  },
  {
   "cell_type": "markdown",
   "metadata": {},
   "source": [
    "# Things to Improve\n",
    "\n",
    "1. Put in option to choose number of players and their names"
   ]
  },
  {
   "cell_type": "code",
   "execution_count": null,
   "metadata": {},
   "outputs": [],
   "source": []
  }
 ]
}